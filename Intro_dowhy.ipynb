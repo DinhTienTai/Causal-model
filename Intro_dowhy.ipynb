{
  "nbformat": 4,
  "nbformat_minor": 0,
  "metadata": {
    "colab": {
      "name": "Intro_dowhy.ipynb",
      "provenance": [],
      "private_outputs": true,
      "collapsed_sections": [],
      "include_colab_link": true
    },
    "kernelspec": {
      "name": "python3",
      "display_name": "Python 3"
    },
    "accelerator": "GPU"
  },
  "cells": [
    {
      "cell_type": "markdown",
      "metadata": {
        "id": "view-in-github",
        "colab_type": "text"
      },
      "source": [
        "<a href=\"https://colab.research.google.com/github/DinhTienTai/Causal-model/blob/master/Intro_dowhy.ipynb\" target=\"_parent\"><img src=\"https://colab.research.google.com/assets/colab-badge.svg\" alt=\"Open In Colab\"/></a>"
      ]
    },
    {
      "cell_type": "markdown",
      "metadata": {
        "id": "Zojmq7CT1VuN",
        "colab_type": "text"
      },
      "source": [
        "### Model with 3 backdoor confounders, 2 instrumental variables and 2 effect modifiers"
      ]
    },
    {
      "cell_type": "code",
      "metadata": {
        "id": "1cgBhyBV2_5f",
        "colab_type": "code",
        "colab": {}
      },
      "source": [
        "! git clone https://github.com/microsoft/dowhy.git"
      ],
      "execution_count": 0,
      "outputs": []
    },
    {
      "cell_type": "code",
      "metadata": {
        "id": "H_x_l4WiCm9p",
        "colab_type": "code",
        "colab": {}
      },
      "source": [
        "! pip install --upgrade https://github.com/microsoft/dowhy/tarball/master"
      ],
      "execution_count": 0,
      "outputs": []
    },
    {
      "cell_type": "code",
      "metadata": {
        "id": "PtIY_kPWIqbY",
        "colab_type": "code",
        "colab": {}
      },
      "source": [
        "import dowhy\n",
        "dowhy.__version__"
      ],
      "execution_count": 0,
      "outputs": []
    },
    {
      "cell_type": "code",
      "metadata": {
        "id": "2rDLXQlZ04gE",
        "colab_type": "code",
        "colab": {}
      },
      "source": [
        "import warnings\n",
        "warnings.filterwarnings(\"ignore\")\n",
        "import numpy as np\n",
        "import pandas as pd\n",
        "import logging"
      ],
      "execution_count": 0,
      "outputs": []
    },
    {
      "cell_type": "code",
      "metadata": {
        "id": "fm4xrVtp5WQg",
        "colab_type": "code",
        "colab": {}
      },
      "source": [
        "from dowhy import CausalModel\n",
        "import dowhy.datasets"
      ],
      "execution_count": 0,
      "outputs": []
    },
    {
      "cell_type": "code",
      "metadata": {
        "id": "gDzHdmEM6fXE",
        "colab_type": "code",
        "colab": {}
      },
      "source": [
        "!pip install econml"
      ],
      "execution_count": 0,
      "outputs": []
    },
    {
      "cell_type": "code",
      "metadata": {
        "id": "SLwV4iyG67-5",
        "colab_type": "code",
        "colab": {}
      },
      "source": [
        "import econml"
      ],
      "execution_count": 0,
      "outputs": []
    },
    {
      "cell_type": "markdown",
      "metadata": {
        "id": "FPQaHCxp7AxI",
        "colab_type": "text"
      },
      "source": [
        "Prepare data for practice"
      ]
    },
    {
      "cell_type": "code",
      "metadata": {
        "id": "REwJOGUx8fED",
        "colab_type": "code",
        "colab": {}
      },
      "source": [
        "data = dowhy.datasets.linear_dataset(beta = 5,\n",
        "                                     num_common_causes = 3,\n",
        "                                     num_samples = 1000,\n",
        "                                     num_effect_modifiers=2,\n",
        "                                     num_instruments = 2,\n",
        "                                     num_treatments = 1,\n",
        "                                     treatment_is_binary = False)"
      ],
      "execution_count": 0,
      "outputs": []
    },
    {
      "cell_type": "code",
      "metadata": {
        "id": "WjSguuVdJU9J",
        "colab_type": "code",
        "colab": {}
      },
      "source": [
        "# Object data is an dictionany with the following keys\n",
        "data.keys()"
      ],
      "execution_count": 0,
      "outputs": []
    },
    {
      "cell_type": "code",
      "metadata": {
        "id": "9-rIXpxAJoN5",
        "colab_type": "code",
        "colab": {}
      },
      "source": [
        "# Data is stored in \"df\"\n",
        " data[\"df\"]"
      ],
      "execution_count": 0,
      "outputs": []
    },
    {
      "cell_type": "code",
      "metadata": {
        "id": "xG4E_CFZKAKY",
        "colab_type": "code",
        "colab": {}
      },
      "source": [
        "# Seeing some variables\n",
        "data[\"treatment_name\"]"
      ],
      "execution_count": 0,
      "outputs": []
    },
    {
      "cell_type": "code",
      "metadata": {
        "id": "9PjW-I-SKpGF",
        "colab_type": "code",
        "colab": {}
      },
      "source": [
        "data[\"outcome_name\"]"
      ],
      "execution_count": 0,
      "outputs": []
    },
    {
      "cell_type": "code",
      "metadata": {
        "id": "dTgFm_eKKs0c",
        "colab_type": "code",
        "colab": {}
      },
      "source": [
        "data[\"common_causes_names\"]"
      ],
      "execution_count": 0,
      "outputs": []
    },
    {
      "cell_type": "code",
      "metadata": {
        "id": "DSuiVBOPKwXo",
        "colab_type": "code",
        "colab": {}
      },
      "source": [
        "data[\"instrument_names\"]"
      ],
      "execution_count": 0,
      "outputs": []
    },
    {
      "cell_type": "code",
      "metadata": {
        "id": "hHHsCqADK3Ax",
        "colab_type": "code",
        "colab": {}
      },
      "source": [
        "data[\"effect_modifier_names\"]"
      ],
      "execution_count": 0,
      "outputs": []
    },
    {
      "cell_type": "code",
      "metadata": {
        "id": "Jbvw1tH8usbK",
        "colab_type": "code",
        "colab": {}
      },
      "source": [
        "# Pairplot\n",
        "import seaborn as sns"
      ],
      "execution_count": 0,
      "outputs": []
    },
    {
      "cell_type": "code",
      "metadata": {
        "id": "GKBElxDbwd5b",
        "colab_type": "code",
        "colab": {}
      },
      "source": [
        "gpair = sns.pairplot(data[\"df\"], diag_kind = \"kde\", kind = \"reg\", markers = \".\",\n",
        "              plot_kws = {\"color\": \"purple\", \"scatter_kws\":{\"color\": \"red\", \"alpha\":0.05}},\n",
        "              diag_kws = {\"color\":\"orangered\", \"shade\":True})"
      ],
      "execution_count": 0,
      "outputs": []
    },
    {
      "cell_type": "code",
      "metadata": {
        "id": "lTt4axiSxDaw",
        "colab_type": "code",
        "colab": {}
      },
      "source": [
        "# Default plot\n",
        "data[\"dot_graph\"]"
      ],
      "execution_count": 0,
      "outputs": []
    },
    {
      "cell_type": "code",
      "metadata": {
        "id": "8avdJektxQ-g",
        "colab_type": "code",
        "colab": {}
      },
      "source": [
        "data[\"gml_graph\"]"
      ],
      "execution_count": 0,
      "outputs": []
    },
    {
      "cell_type": "markdown",
      "metadata": {
        "id": "PGOLyKJbxWh-",
        "colab_type": "text"
      },
      "source": [
        "### Step 1: Set up causal model"
      ]
    },
    {
      "cell_type": "code",
      "metadata": {
        "id": "EFzfOOt8xkGP",
        "colab_type": "code",
        "colab": {}
      },
      "source": [
        "model = CausalModel(data=data[\"df\"], \n",
        "                    treatment=data[\"treatment_name\"], \n",
        "                    outcome=data[\"outcome_name\"],\n",
        "                    graph=data[\"gml_graph\"])"
      ],
      "execution_count": 0,
      "outputs": []
    },
    {
      "cell_type": "code",
      "metadata": {
        "id": "oB9BuJRexyNu",
        "colab_type": "code",
        "colab": {}
      },
      "source": [
        "model.view_model()"
      ],
      "execution_count": 0,
      "outputs": []
    },
    {
      "cell_type": "markdown",
      "metadata": {
        "id": "cibLnVUgx7NJ",
        "colab_type": "text"
      },
      "source": [
        "### Identifying estimand (predictors need to be estimated)"
      ]
    },
    {
      "cell_type": "code",
      "metadata": {
        "id": "ZiJOrxlkxz7E",
        "colab_type": "code",
        "colab": {}
      },
      "source": [
        "identified_estimand= model.identify_effect(proceed_when_unidentifiable=True)\n",
        "print(identified_estimand)"
      ],
      "execution_count": 0,
      "outputs": []
    },
    {
      "cell_type": "code",
      "metadata": {
        "id": "BJflJlfzzzKx",
        "colab_type": "code",
        "colab": {}
      },
      "source": [
        "identified_estimand.estimands"
      ],
      "execution_count": 0,
      "outputs": []
    },
    {
      "cell_type": "code",
      "metadata": {
        "id": "8m2JFXpPzz-n",
        "colab_type": "code",
        "colab": {}
      },
      "source": [
        "identified_estimand.estimand_type"
      ],
      "execution_count": 0,
      "outputs": []
    },
    {
      "cell_type": "code",
      "metadata": {
        "id": "kqL6al50z20A",
        "colab_type": "code",
        "colab": {}
      },
      "source": [
        "identified_estimand.backdoor_variables"
      ],
      "execution_count": 0,
      "outputs": []
    },
    {
      "cell_type": "markdown",
      "metadata": {
        "id": "LDHKTdRw0Qex",
        "colab_type": "text"
      },
      "source": [
        "### Estimate averaged treatment effect"
      ]
    },
    {
      "cell_type": "code",
      "metadata": {
        "id": "bjTeqI8P0Wef",
        "colab_type": "code",
        "colab": {}
      },
      "source": [
        "# Linear regression\n",
        "linear_estimate = model.estimate_effect(identified_estimand, \n",
        "                                        method_name=\"backdoor.linear_regression\",\n",
        "                                        control_value=0,\n",
        "                                        treatment_value=1,\n",
        "                                        test_significance=True,\n",
        "                                        target_units='ate',\n",
        "                                       )\n",
        "\n",
        "print(linear_estimate)"
      ],
      "execution_count": 0,
      "outputs": []
    },
    {
      "cell_type": "code",
      "metadata": {
        "id": "jVdHCsAL1kw3",
        "colab_type": "code",
        "colab": {}
      },
      "source": [
        "## With method: Double Machine learning CATE Estimator\n",
        "from sklearn.preprocessing import PolynomialFeatures as PolyF\n",
        "from sklearn.linear_model import ElasticNetCV as EnetCV\n",
        "from sklearn.ensemble import RandomForestRegressor as RFReg\n",
        "\n",
        "dml_estimate = model.estimate_effect(identified_estimand,\n",
        "                                     method_name=\"backdoor.econml.dml.DMLCateEstimator\",\n",
        "                                     confidence_intervals=True,\n",
        "                                     method_params={\"init_params\":{'model_y': RFReg(),\n",
        "                                                                   'model_t': RFReg(),\n",
        "                                                              \"model_final\": EnetCV(), \n",
        "                                                              'featurizer':PolyF(degree=1, include_bias=True),},\n",
        "                                               \"fit_params\":{'inference': 'bootstrap',}\n",
        "                                                   }\n",
        "                                    )\n",
        "print(dml_estimate)"
      ],
      "execution_count": 0,
      "outputs": []
    },
    {
      "cell_type": "code",
      "metadata": {
        "id": "-CUgCiiC2W86",
        "colab_type": "code",
        "colab": {}
      },
      "source": [
        "\"Treatment effect is {}\".format(np.mean(dml_estimate.cate_estimates))"
      ],
      "execution_count": 0,
      "outputs": []
    },
    {
      "cell_type": "code",
      "metadata": {
        "id": "3DQir_x42c5P",
        "colab_type": "code",
        "colab": {}
      },
      "source": [
        "# Plotting \n",
        "gest = sns.kdeplot(dml_estimate.cate_estimates.reshape(1000,), shade =True, color = \"red\")"
      ],
      "execution_count": 0,
      "outputs": []
    },
    {
      "cell_type": "code",
      "metadata": {
        "id": "KGRPmhXT3PTp",
        "colab_type": "code",
        "colab": {}
      },
      "source": [
        "\"True effect is {}\".format(data[\"ate\"])"
      ],
      "execution_count": 0,
      "outputs": []
    },
    {
      "cell_type": "code",
      "metadata": {
        "id": "HXbeNwne3Qzu",
        "colab_type": "code",
        "colab": {}
      },
      "source": [
        ""
      ],
      "execution_count": 0,
      "outputs": []
    }
  ]
}